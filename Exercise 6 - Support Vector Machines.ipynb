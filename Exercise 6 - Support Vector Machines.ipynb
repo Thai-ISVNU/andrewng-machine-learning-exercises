{
 "cells": [
  {
   "cell_type": "code",
   "execution_count": 1,
   "metadata": {},
   "outputs": [],
   "source": [
    "%matplotlib inline\n",
    "\n",
    "import numpy as np\n",
    "import matplotlib.pyplot as plt\n",
    "import string\n",
    "\n",
    "from scipy.io import loadmat\n",
    "from sklearn import svm\n",
    "from itertools import product\n",
    "from pathlib import Path\n",
    "from re import sub, split, findall\n",
    "from nltk.stem.porter import PorterStemmer"
   ]
  },
  {
   "cell_type": "code",
   "execution_count": 2,
   "metadata": {},
   "outputs": [],
   "source": [
    "# Images directory\n",
    "\n",
    "figsdir = Path.cwd() / 'ex6figs'\n",
    "figsdir.mkdir(parents=True, exist_ok=True);"
   ]
  },
  {
   "cell_type": "code",
   "execution_count": 3,
   "metadata": {},
   "outputs": [],
   "source": [
    "# Data directory\n",
    "\n",
    "datadir = Path.cwd() / 'data/ex6'"
   ]
  },
  {
   "cell_type": "markdown",
   "metadata": {},
   "source": [
    "# Support Vector Machines"
   ]
  },
  {
   "cell_type": "markdown",
   "metadata": {},
   "source": [
    "## Example dataset 1"
   ]
  },
  {
   "cell_type": "code",
   "execution_count": 4,
   "metadata": {},
   "outputs": [
    {
     "data": {
      "text/plain": [
       "dict_keys(['__header__', '__version__', '__globals__', 'X', 'y'])"
      ]
     },
     "execution_count": 4,
     "metadata": {},
     "output_type": "execute_result"
    }
   ],
   "source": [
    "data = loadmat(datadir / 'ex6data1.mat')\n",
    "data.keys()"
   ]
  },
  {
   "cell_type": "code",
   "execution_count": 5,
   "metadata": {},
   "outputs": [
    {
     "name": "stdout",
     "output_type": "stream",
     "text": [
      "x: (51, 2)\n",
      "y: (51,)\n"
     ]
    }
   ],
   "source": [
    "x = data['X']\n",
    "y = data['y'].ravel();\n",
    "\n",
    "print('x: {}\\ny: {}'.format(x.shape, y.shape))"
   ]
  },
  {
   "cell_type": "code",
   "execution_count": 6,
   "metadata": {},
   "outputs": [],
   "source": [
    "def plot_data(x, y, ax=None):\n",
    "    if ax == None:\n",
    "        ax = plt.gca()\n",
    "    \n",
    "    pos = (y == 1)\n",
    "    neg = (y == 0)\n",
    "\n",
    "    ax.plot(x[pos, 0], x[pos, 1], '+', x[neg, 0], x[neg, 1], 'o')\n",
    "    ax.set_xlabel('x0')\n",
    "    ax.set_ylabel('x1')\n",
    "    ax.legend(['pos', 'neg'], loc='best')"
   ]
  },
  {
   "cell_type": "code",
   "execution_count": 7,
   "metadata": {},
   "outputs": [
    {
     "data": {
      "image/png": "[encoded data removed]",
      "text/plain": [
       "<Figure size 432x288 with 1 Axes>"
      ]
     },
     "metadata": {},
     "output_type": "display_data"
    }
   ],
   "source": [
    "plot_data(x, y)\n",
    "plt.savefig(figsdir / 'data.png', bbox_inches='tight')"
   ]
  },
  {
   "cell_type": "code",
   "execution_count": 8,
   "metadata": {},
   "outputs": [],
   "source": [
    "def make_meshgrid(x, y, pad, step=.02):\n",
    "    x_min, x_max = x.min() - pad, x.max() + pad\n",
    "    y_min, y_max = y.min() - pad, y.max() + pad\n",
    "    xx, yy = np.meshgrid(np.arange(x_min, x_max, step), np.arange(y_min, y_max, step))\n",
    "    \n",
    "    return xx, yy"
   ]
  },
  {
   "cell_type": "code",
   "execution_count": 9,
   "metadata": {},
   "outputs": [],
   "source": [
    "def plot_contours(ax, clf, xx, yy, **params):\n",
    "    z = clf.predict(np.c_[xx.ravel(), yy.ravel()]).reshape(xx.shape)\n",
    "    ax.contourf(xx, yy, z, **params)\n",
    "    ax.set_xlim(xx.min(), xx.max())\n",
    "    ax.set_ylim(yy.min(), yy.max())"
   ]
  },
  {
   "cell_type": "code",
   "execution_count": 10,
   "metadata": {},
   "outputs": [
    {
     "data": {
      "text/plain": [
       "[SVC(C=1, cache_size=200, class_weight=None, coef0=0.0,\n",
       "   decision_function_shape='ovr', degree=1, gamma='auto', kernel='linear',\n",
       "   max_iter=-1, probability=False, random_state=None, shrinking=True,\n",
       "   tol=0.001, verbose=False),\n",
       " SVC(C=100, cache_size=200, class_weight=None, coef0=0.0,\n",
       "   decision_function_shape='ovr', degree=1, gamma='auto', kernel='linear',\n",
       "   max_iter=-1, probability=False, random_state=None, shrinking=True,\n",
       "   tol=0.001, verbose=False)]"
      ]
     },
     "execution_count": 10,
     "metadata": {},
     "output_type": "execute_result"
    }
   ],
   "source": [
    "clfs = (svm.SVC(C=1, degree=1, kernel='linear'), svm.SVC(C=100, degree=1, kernel='linear'))\n",
    "[clf.fit(x, y) for clf in clfs]"
   ]
  },
  {
   "cell_type": "code",
   "execution_count": 11,
   "metadata": {},
   "outputs": [
    {
     "data": {
      "image/png": "[encoded data removed]",
      "text/plain": [
       "<Figure size 864x288 with 2 Axes>"
      ]
     },
     "metadata": {},
     "output_type": "display_data"
    }
   ],
   "source": [
    "x0, x1 = x[:, 0], x[:, 1]\n",
    "xx, yy = make_meshgrid(x0, x1, pad=1)\n",
    "_, axes = plt.subplots(1, 2, figsize=(12, 4))\n",
    "\n",
    "for ax, clf in zip(axes, clfs):\n",
    "    plot_data(x, y, ax=ax)\n",
    "    plot_contours(ax, clf, xx, yy, cmap=plt.cm.Pastel1)\n",
    "    ax.set_title('SVM decision boundary with C = {}'.format(clf.C))\n",
    "    \n",
    "plt.savefig(figsdir / 'svm_linear_decision_boundaries.png', bbox_inches='tight')"
   ]
  },
  {
   "cell_type": "markdown",
   "metadata": {},
   "source": [
    "## Example dataset 2"
   ]
  },
  {
   "cell_type": "code",
   "execution_count": 12,
   "metadata": {},
   "outputs": [],
   "source": [
    "def gaussian_kernel(x0, x1, sigma):\n",
    "    return np.exp(-np.sum(np.square(x0 - x1)) / (2 * np.square(sigma)))"
   ]
  },
  {
   "cell_type": "code",
   "execution_count": 13,
   "metadata": {},
   "outputs": [
    {
     "name": "stdout",
     "output_type": "stream",
     "text": [
      "Gaussian kernel between [1 2 1], [ 0  4 -1], sigma = 2: 0.32465246735834974\n",
      "(this value should be about 0.324652))\n"
     ]
    }
   ],
   "source": [
    "x0 = np.array([1, 2, 1])\n",
    "x1 = np.array([0, 4, -1])\n",
    "sigma = 2;\n",
    "\n",
    "print('Gaussian kernel between {}, {}, sigma = {}: {}\\n(this value should be about 0.324652))'\n",
    "      .format(x0, x1, sigma,gaussian_kernel(x0, x1, sigma)))"
   ]
  },
  {
   "cell_type": "code",
   "execution_count": 14,
   "metadata": {},
   "outputs": [
    {
     "data": {
      "text/plain": [
       "dict_keys(['__header__', '__version__', '__globals__', 'X', 'y'])"
      ]
     },
     "execution_count": 14,
     "metadata": {},
     "output_type": "execute_result"
    }
   ],
   "source": [
    "data = loadmat(datadir / 'ex6data2.mat')\n",
    "data.keys()"
   ]
  },
  {
   "cell_type": "code",
   "execution_count": 15,
   "metadata": {},
   "outputs": [
    {
     "name": "stdout",
     "output_type": "stream",
     "text": [
      "x: (863, 2)\n",
      "y: (863,)\n"
     ]
    }
   ],
   "source": [
    "x = data['X']\n",
    "y = data['y'].ravel()\n",
    "\n",
    "print('x: {}\\ny: {}'.format(x.shape, y.shape))"
   ]
  },
  {
   "cell_type": "code",
   "execution_count": 16,
   "metadata": {},
   "outputs": [
    {
     "data": {
      "image/png": "[encoded data removed]",
      "text/plain": [
       "<Figure size 432x288 with 1 Axes>"
      ]
     },
     "metadata": {},
     "output_type": "display_data"
    }
   ],
   "source": [
    "plot_data(x, y)\n",
    "\n",
    "plt.savefig(figsdir / 'data2.png', bbox_inches='tight')"
   ]
  },
  {
   "cell_type": "code",
   "execution_count": 17,
   "metadata": {},
   "outputs": [
    {
     "data": {
      "text/plain": [
       "SVC(C=1, cache_size=200, class_weight=None, coef0=0.0,\n",
       "  decision_function_shape='ovr', degree=3, gamma=50, kernel='rbf',\n",
       "  max_iter=-1, probability=False, random_state=None, shrinking=True,\n",
       "  tol=0.001, verbose=False)"
      ]
     },
     "execution_count": 17,
     "metadata": {},
     "output_type": "execute_result"
    }
   ],
   "source": [
    "# gamma = 1 / (2 * sigma**2)\n",
    "clf = svm.SVC(C=1, kernel='rbf', gamma=50)\n",
    "clf.fit(x, y)"
   ]
  },
  {
   "cell_type": "code",
   "execution_count": 18,
   "metadata": {},
   "outputs": [
    {
     "data": {
      "image/png": "[encoded data removed]",
      "text/plain": [
       "<Figure size 432x288 with 1 Axes>"
      ]
     },
     "metadata": {},
     "output_type": "display_data"
    }
   ],
   "source": [
    "x0, x1 = x[:, 0], x[:, 1]\n",
    "xx, yy = make_meshgrid(x0, x1, pad=0.05)\n",
    "\n",
    "plot_data(x, y)\n",
    "plot_contours(plt.gca(), clf, xx, yy, cmap=plt.cm.Pastel1)\n",
    "plt.title('SVM decision boundary with C = {}'.format(clf.C))\n",
    "\n",
    "plt.savefig(figsdir / 'svm_rbf_decision_boundary_data2.png', bbox_inches='tight')"
   ]
  },
  {
   "cell_type": "markdown",
   "metadata": {},
   "source": [
    "## Example dataset 3"
   ]
  },
  {
   "cell_type": "code",
   "execution_count": 19,
   "metadata": {},
   "outputs": [
    {
     "data": {
      "text/plain": [
       "dict_keys(['__header__', '__version__', '__globals__', 'X', 'y', 'yval', 'Xval'])"
      ]
     },
     "execution_count": 19,
     "metadata": {},
     "output_type": "execute_result"
    }
   ],
   "source": [
    "data = loadmat(datadir / 'ex6data3.mat')\n",
    "data.keys()"
   ]
  },
  {
   "cell_type": "code",
   "execution_count": 20,
   "metadata": {},
   "outputs": [
    {
     "name": "stdout",
     "output_type": "stream",
     "text": [
      "x: (211, 2)\n",
      "y: (211,)\n",
      "x_val: (200, 2)\n",
      "y_val: (200,)\n"
     ]
    }
   ],
   "source": [
    "x = data['X']\n",
    "y = data['y'].ravel()\n",
    "\n",
    "x_val = data['Xval']\n",
    "y_val = data['yval'].ravel()\n",
    "\n",
    "print('x: {}\\ny: {}'.format(x.shape, y.shape))\n",
    "print('x_val: {}\\ny_val: {}'.format(x_val.shape, y_val.shape))"
   ]
  },
  {
   "cell_type": "code",
   "execution_count": 21,
   "metadata": {},
   "outputs": [
    {
     "data": {
      "image/png": "[encoded data removed]",
      "text/plain": [
       "<Figure size 432x288 with 1 Axes>"
      ]
     },
     "metadata": {},
     "output_type": "display_data"
    }
   ],
   "source": [
    "plot_data(x, y)\n",
    "\n",
    "plt.savefig(figsdir / 'data3.png', bbox_inches='tight')"
   ]
  },
  {
   "cell_type": "code",
   "execution_count": 22,
   "metadata": {},
   "outputs": [
    {
     "data": {
      "text/plain": [
       "(1.0, 49.99999999999999)"
      ]
     },
     "execution_count": 22,
     "metadata": {},
     "output_type": "execute_result"
    }
   ],
   "source": [
    "c_val = np.array([0.01, 0.03, 0.1, 0.3, 1, 3, 10, 30])\n",
    "sigma_val = np.array([0.01, 0.03, 0.1, 0.3, 1, 3, 10, 30])\n",
    "gamma_val = 1 / (2 * np.square(sigma_val))\n",
    "\n",
    "best_C = c_val[0]\n",
    "best_gamma = gamma_val[0]\n",
    "clf = svm.SVC(C=best_C, kernel='rbf', gamma=best_gamma)\n",
    "clf.fit(x, y)\n",
    "pred = clf.predict(x)\n",
    "prediction_error = np.mean(pred != y)\n",
    "best_clf = clf\n",
    "\n",
    "for c, gamma in product(c_val[1:], gamma_val[1:]):\n",
    "    clf = svm.SVC(C=c, kernel='rbf', gamma=gamma)\n",
    "    clf.fit(x, y)\n",
    "    pred = clf.predict(x_val)\n",
    "    prediction_error_temp = np.mean(pred != y_val)\n",
    "\n",
    "    if prediction_error_temp < prediction_error:\n",
    "        prediction_error = prediction_error_temp\n",
    "        best_C = c\n",
    "        best_gamma = gamma\n",
    "        best_clf = clf\n",
    "        \n",
    "best_C, best_gamma"
   ]
  },
  {
   "cell_type": "code",
   "execution_count": 23,
   "metadata": {},
   "outputs": [
    {
     "data": {
      "image/png": "[encoded data removed]",
      "text/plain": [
       "<Figure size 432x288 with 1 Axes>"
      ]
     },
     "metadata": {},
     "output_type": "display_data"
    }
   ],
   "source": [
    "x0, x1 = x[:, 0], x[:, 1]\n",
    "xx, yy = make_meshgrid(x0, x1, pad=0.05)\n",
    "\n",
    "plot_data(x, y)\n",
    "plot_contours(plt.gca(), best_clf, xx, yy, cmap=plt.cm.Pastel1)\n",
    "plt.title('SVM decision boundary with C = {}'.format(best_clf.C))\n",
    "\n",
    "plt.savefig(figsdir / 'svm_rbf_decision_boundary_data3.png', bbox_inches='tight')"
   ]
  },
  {
   "cell_type": "markdown",
   "metadata": {},
   "source": [
    "# Spam classification"
   ]
  },
  {
   "cell_type": "code",
   "execution_count": 24,
   "metadata": {},
   "outputs": [],
   "source": [
    "with open(datadir / 'emailSample1.txt') as email_sample:\n",
    "    email_text = email_sample.read()"
   ]
  },
  {
   "cell_type": "code",
   "execution_count": 25,
   "metadata": {},
   "outputs": [],
   "source": [
    "def process_email(text, vocab):\n",
    "    text = text.lower() # Lower case\n",
    "    text = sub(r'<[^<>]+>', '', text) # Strip HTML tags\n",
    "    text = sub(r'[0-9]+', 'number', text) # Normalize numbers\n",
    "    text = sub(r'(http|https)://[^\\s]*', 'httpaddr', text) # Normalize URLs\n",
    "    text = sub(r'[^\\s]+@[^\\s]+', 'emailaddr', text) # Normalize email addresses\n",
    "    text = sub(r'[$]+', 'dollar', text) # Normalize dollar signs\n",
    "    \n",
    "    tokens = split('\\W+', text) # Remove all non-word characters\n",
    "    stemmer = PorterStemmer() # Stemming\n",
    "    words = [stemmer.stem(token) for token in tokens if len(token) > 0]\n",
    "    \n",
    "    return [vocab.index(word) for word in words if word in vocab]"
   ]
  },
  {
   "cell_type": "code",
   "execution_count": 26,
   "metadata": {},
   "outputs": [
    {
     "name": "stdout",
     "output_type": "stream",
     "text": [
      "[85, 915, 793, 1076, 882, 369, 1698, 789, 1821, 1830, 882, 430, 1170, 793, 1001, 1892, 1363, 591, 1675, 237, 161, 88, 687, 944, 1662, 1119, 1061, 1698, 374, 1161, 478, 1892, 1509, 798, 1181, 1236, 809, 1894, 1439, 1546, 180, 1698, 1757, 1895, 687, 1675, 991, 960, 1476, 70, 529, 1698, 530]\n"
     ]
    }
   ],
   "source": [
    "with open(datadir / 'vocab.txt') as vocab_file:\n",
    "    vocab = vocab_file.readlines()\n",
    "    \n",
    "vocab = [findall(r'[a-zA-Z]+', l.strip())[0] for l in vocab]\n",
    "word_indices = process_email(email_text, vocab)\n",
    "\n",
    "print(word_indices)"
   ]
  },
  {
   "cell_type": "code",
   "execution_count": 27,
   "metadata": {},
   "outputs": [],
   "source": [
    "def email_features(word_indices):\n",
    "    return [1 if ind in word_indices else 0 for ind in range(1899)]"
   ]
  },
  {
   "cell_type": "code",
   "execution_count": 28,
   "metadata": {},
   "outputs": [
    {
     "data": {
      "text/plain": [
       "45"
      ]
     },
     "execution_count": 28,
     "metadata": {},
     "output_type": "execute_result"
    }
   ],
   "source": [
    "features = email_features(word_indices)\n",
    "features.count(1)"
   ]
  },
  {
   "cell_type": "code",
   "execution_count": 29,
   "metadata": {},
   "outputs": [
    {
     "data": {
      "text/plain": [
       "(dict_keys(['__header__', '__version__', '__globals__', 'X', 'y']),\n",
       " dict_keys(['__header__', '__version__', '__globals__', 'Xtest', 'ytest']))"
      ]
     },
     "execution_count": 29,
     "metadata": {},
     "output_type": "execute_result"
    }
   ],
   "source": [
    "train_data = loadmat(datadir / 'spamTrain.mat')\n",
    "test_data = loadmat(datadir / 'spamTest.mat')\n",
    "train_data.keys(), test_data.keys()"
   ]
  },
  {
   "cell_type": "code",
   "execution_count": 30,
   "metadata": {},
   "outputs": [
    {
     "name": "stdout",
     "output_type": "stream",
     "text": [
      "x: (4000, 1899)\n",
      "y: (4000,)\n",
      "x_test: (1000, 1899)\n",
      "y_test: (1000,)\n"
     ]
    }
   ],
   "source": [
    "x = train_data['X']\n",
    "y = train_data['y'].ravel()\n",
    "\n",
    "x_test = test_data['Xtest']\n",
    "y_test = test_data['ytest'].ravel()\n",
    "\n",
    "print('x: {}\\ny: {}'.format(x.shape, y.shape))\n",
    "print('x_test: {}\\ny_test: {}'.format(x_test.shape, y_test.shape))"
   ]
  },
  {
   "cell_type": "code",
   "execution_count": 31,
   "metadata": {},
   "outputs": [
    {
     "name": "stdout",
     "output_type": "stream",
     "text": [
      "Training accuracy: 99.83%\n",
      "Test accuracy: 98.90%\n"
     ]
    }
   ],
   "source": [
    "clf = svm.SVC(C=0.1, kernel='linear')\n",
    "clf.fit(x, y)\n",
    "\n",
    "train_pred = clf.predict(x)\n",
    "print('Training accuracy: {:.2f}%'.format(np.mean(train_pred == y) * 100))\n",
    "\n",
    "test_pred = clf.predict(x_test)\n",
    "print('Test accuracy: {:.2f}%'.format(np.mean(test_pred == y_test) * 100))"
   ]
  },
  {
   "cell_type": "code",
   "execution_count": 32,
   "metadata": {},
   "outputs": [
    {
     "name": "stdout",
     "output_type": "stream",
     "text": [
      "Top predictors (predictor, weight):\n",
      "('zip', 0.5006137361746403)\n",
      "('zero', 0.46591639068888796)\n",
      "('zdnet', 0.4228691170610412)\n",
      "('yourself', 0.3836216017940651)\n",
      "('your', 0.367710398245535)\n",
      "('young', 0.3450640979461706)\n",
      "('you', 0.3236320357963838)\n",
      "('york', 0.2697241060373996)\n",
      "('yet', 0.2672977146177069)\n",
      "('yesterdai', 0.26116888670014904)\n",
      "('year', 0.2572981979518163)\n",
      "('yeah', 0.2539414551595328)\n",
      "('ye', 0.25346652431419936)\n",
      "('yahoo', 0.2482969904556866)\n",
      "('xp', 0.24640435783158998)\n"
     ]
    }
   ],
   "source": [
    "weights = np.sort(clf.coef_, axis=None)\n",
    "idx = np.argsort(clf.coef_, axis=None)\n",
    "weights[::-1].sort()\n",
    "idx[::-1].sort()\n",
    "\n",
    "top_predictors = [(vocab[idx[i]], weights[i]) for i in range(15)]\n",
    "\n",
    "print('Top predictors (predictor, weight):')\n",
    "for p, w in top_predictors:\n",
    "    print((p, w))"
   ]
  }
 ],
 "metadata": {
  "kernelspec": {
   "display_name": "Python 3",
   "language": "python",
   "name": "python3"
  },
  "language_info": {
   "codemirror_mode": {
    "name": "ipython",
    "version": 3
   },
   "file_extension": ".py",
   "mimetype": "text/x-python",
   "name": "python",
   "nbconvert_exporter": "python",
   "pygments_lexer": "ipython3",
   "version": "3.6.5"
  }
 },
 "nbformat": 4,
 "nbformat_minor": 2
}
